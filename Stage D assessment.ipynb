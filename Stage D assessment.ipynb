{
 "cells": [
  {
   "cell_type": "code",
   "execution_count": 1,
   "metadata": {},
   "outputs": [],
   "source": [
    "import pandas as pd\n",
    "import seaborn as sns\n",
    "import matplotlib.pyplot as plt\n",
    "%matplotlib inline"
   ]
  },
  {
   "cell_type": "markdown",
   "metadata": {},
   "source": [
    "## Read the datasets"
   ]
  },
  {
   "cell_type": "code",
   "execution_count": 2,
   "metadata": {},
   "outputs": [],
   "source": [
    "food_production = pd.read_csv('datasets/Africa Food Production.csv')\n",
    "food_supply = pd.read_csv('datasets/Africa Food Supply.csv')"
   ]
  },
  {
   "cell_type": "code",
   "execution_count": 3,
   "metadata": {},
   "outputs": [
    {
     "data": {
      "text/html": [
       "<div>\n",
       "<style scoped>\n",
       "    .dataframe tbody tr th:only-of-type {\n",
       "        vertical-align: middle;\n",
       "    }\n",
       "\n",
       "    .dataframe tbody tr th {\n",
       "        vertical-align: top;\n",
       "    }\n",
       "\n",
       "    .dataframe thead th {\n",
       "        text-align: right;\n",
       "    }\n",
       "</style>\n",
       "<table border=\"1\" class=\"dataframe\">\n",
       "  <thead>\n",
       "    <tr style=\"text-align: right;\">\n",
       "      <th></th>\n",
       "      <th>Country</th>\n",
       "      <th>Item</th>\n",
       "      <th>Year</th>\n",
       "      <th>Value</th>\n",
       "    </tr>\n",
       "  </thead>\n",
       "  <tbody>\n",
       "    <tr>\n",
       "      <th>0</th>\n",
       "      <td>Algeria</td>\n",
       "      <td>Wheat and products</td>\n",
       "      <td>2004</td>\n",
       "      <td>2731</td>\n",
       "    </tr>\n",
       "    <tr>\n",
       "      <th>1</th>\n",
       "      <td>Algeria</td>\n",
       "      <td>Wheat and products</td>\n",
       "      <td>2005</td>\n",
       "      <td>2415</td>\n",
       "    </tr>\n",
       "    <tr>\n",
       "      <th>2</th>\n",
       "      <td>Algeria</td>\n",
       "      <td>Wheat and products</td>\n",
       "      <td>2006</td>\n",
       "      <td>2688</td>\n",
       "    </tr>\n",
       "    <tr>\n",
       "      <th>3</th>\n",
       "      <td>Algeria</td>\n",
       "      <td>Wheat and products</td>\n",
       "      <td>2007</td>\n",
       "      <td>2319</td>\n",
       "    </tr>\n",
       "    <tr>\n",
       "      <th>4</th>\n",
       "      <td>Algeria</td>\n",
       "      <td>Wheat and products</td>\n",
       "      <td>2008</td>\n",
       "      <td>1111</td>\n",
       "    </tr>\n",
       "  </tbody>\n",
       "</table>\n",
       "</div>"
      ],
      "text/plain": [
       "   Country                Item  Year  Value\n",
       "0  Algeria  Wheat and products  2004   2731\n",
       "1  Algeria  Wheat and products  2005   2415\n",
       "2  Algeria  Wheat and products  2006   2688\n",
       "3  Algeria  Wheat and products  2007   2319\n",
       "4  Algeria  Wheat and products  2008   1111"
      ]
     },
     "execution_count": 3,
     "metadata": {},
     "output_type": "execute_result"
    }
   ],
   "source": [
    "food_production.head()"
   ]
  },
  {
   "cell_type": "code",
   "execution_count": 4,
   "metadata": {},
   "outputs": [
    {
     "name": "stdout",
     "output_type": "stream",
     "text": [
      "['Alcohol, Non-Food', 'Apples and products', 'Aquatic Animals, Others', 'Aquatic Plants', 'Bananas', 'Barley and products', 'Beans', 'Beer', 'Beverages, Alcoholic', 'Beverages, Fermented', 'Bovine Meat', 'Butter, Ghee', 'Cassava and products', 'Cephalopods', 'Cereals, Other', 'Citrus, Other', 'Cloves', 'Cocoa Beans and products', 'Coconut Oil', 'Coconuts - Incl Copra', 'Coffee and products', 'Cottonseed', 'Cottonseed Oil', 'Cream', 'Crustaceans', 'Dates', 'Demersal Fish', 'Eggs', 'Fats, Animals, Raw', 'Fish, Body Oil', 'Fish, Liver Oil', 'Freshwater Fish', 'Fruits, Other', 'Grapefruit and products', 'Grapes and products (excl wine)', 'Groundnut Oil', 'Groundnuts (Shelled Eq)', 'Honey', 'Lemons, Limes and products', 'Maize Germ Oil', 'Maize and products', 'Marine Fish, Other', 'Meat, Other', 'Milk - Excluding Butter', 'Millet and products', 'Molluscs, Other', 'Mutton & Goat Meat', 'Nuts and products', 'Oats', 'Offals, Edible', 'Oilcrops Oil, Other', 'Oilcrops, Other', 'Olive Oil', 'Olives (including preserved)', 'Onions', 'Oranges, Mandarines', 'Palm Oil', 'Palm kernels', 'Palmkernel Oil', 'Peas', 'Pelagic Fish', 'Pepper', 'Pigmeat', 'Pimento', 'Pineapples and products', 'Plantains', 'Potatoes and products', 'Poultry Meat', 'Pulses, Other and products', 'Rape and Mustard Oil', 'Rape and Mustardseed', 'Rice (Milled Equivalent)', 'Roots, Other', 'Rye and products', 'Sesame seed', 'Sesameseed Oil', 'Sorghum and products', 'Soyabean Oil', 'Soyabeans', 'Spices, Other', 'Sugar (Raw Equivalent)', 'Sugar beet', 'Sugar cane', 'Sugar non-centrifugal', 'Sunflower seed', 'Sunflowerseed Oil', 'Sweet potatoes', 'Sweeteners, Other', 'Tea (including mate)', 'Tomatoes and products', 'Vegetables, Other', 'Wheat and products', 'Wine', 'Yams']\n"
     ]
    }
   ],
   "source": [
    "food_items = food_production['Item'].unique()\n",
    "print(sorted(food_items))"
   ]
  },
  {
   "cell_type": "code",
   "execution_count": 5,
   "metadata": {},
   "outputs": [
    {
     "data": {
      "text/html": [
       "<div>\n",
       "<style scoped>\n",
       "    .dataframe tbody tr th:only-of-type {\n",
       "        vertical-align: middle;\n",
       "    }\n",
       "\n",
       "    .dataframe tbody tr th {\n",
       "        vertical-align: top;\n",
       "    }\n",
       "\n",
       "    .dataframe thead th {\n",
       "        text-align: right;\n",
       "    }\n",
       "</style>\n",
       "<table border=\"1\" class=\"dataframe\">\n",
       "  <thead>\n",
       "    <tr style=\"text-align: right;\">\n",
       "      <th></th>\n",
       "      <th>Country</th>\n",
       "      <th>Year</th>\n",
       "      <th>Value</th>\n",
       "    </tr>\n",
       "  </thead>\n",
       "  <tbody>\n",
       "    <tr>\n",
       "      <th>0</th>\n",
       "      <td>Algeria</td>\n",
       "      <td>2004</td>\n",
       "      <td>2987</td>\n",
       "    </tr>\n",
       "    <tr>\n",
       "      <th>1</th>\n",
       "      <td>Algeria</td>\n",
       "      <td>2005</td>\n",
       "      <td>2958</td>\n",
       "    </tr>\n",
       "    <tr>\n",
       "      <th>2</th>\n",
       "      <td>Algeria</td>\n",
       "      <td>2006</td>\n",
       "      <td>3047</td>\n",
       "    </tr>\n",
       "    <tr>\n",
       "      <th>3</th>\n",
       "      <td>Algeria</td>\n",
       "      <td>2007</td>\n",
       "      <td>3041</td>\n",
       "    </tr>\n",
       "    <tr>\n",
       "      <th>4</th>\n",
       "      <td>Algeria</td>\n",
       "      <td>2008</td>\n",
       "      <td>3048</td>\n",
       "    </tr>\n",
       "  </tbody>\n",
       "</table>\n",
       "</div>"
      ],
      "text/plain": [
       "   Country  Year  Value\n",
       "0  Algeria  2004   2987\n",
       "1  Algeria  2005   2958\n",
       "2  Algeria  2006   3047\n",
       "3  Algeria  2007   3041\n",
       "4  Algeria  2008   3048"
      ]
     },
     "execution_count": 5,
     "metadata": {},
     "output_type": "execute_result"
    }
   ],
   "source": [
    "food_supply.head()"
   ]
  },
  {
   "cell_type": "markdown",
   "metadata": {},
   "source": [
    "### Question 1\n",
    "Which country produced the highest amount of oats in 2010?"
   ]
  },
  {
   "cell_type": "code",
   "execution_count": 6,
   "metadata": {},
   "outputs": [
    {
     "data": {
      "text/html": [
       "<div>\n",
       "<style scoped>\n",
       "    .dataframe tbody tr th:only-of-type {\n",
       "        vertical-align: middle;\n",
       "    }\n",
       "\n",
       "    .dataframe tbody tr th {\n",
       "        vertical-align: top;\n",
       "    }\n",
       "\n",
       "    .dataframe thead th {\n",
       "        text-align: right;\n",
       "    }\n",
       "</style>\n",
       "<table border=\"1\" class=\"dataframe\">\n",
       "  <thead>\n",
       "    <tr style=\"text-align: right;\">\n",
       "      <th></th>\n",
       "      <th>Country</th>\n",
       "      <th>Item</th>\n",
       "      <th>Year</th>\n",
       "      <th>Value</th>\n",
       "    </tr>\n",
       "  </thead>\n",
       "  <tbody>\n",
       "    <tr>\n",
       "      <th>326</th>\n",
       "      <td>Algeria</td>\n",
       "      <td>Oats</td>\n",
       "      <td>2010</td>\n",
       "      <td>88</td>\n",
       "    </tr>\n",
       "    <tr>\n",
       "      <th>6646</th>\n",
       "      <td>Ethiopia</td>\n",
       "      <td>Oats</td>\n",
       "      <td>2010</td>\n",
       "      <td>48</td>\n",
       "    </tr>\n",
       "    <tr>\n",
       "      <th>13526</th>\n",
       "      <td>Morocco</td>\n",
       "      <td>Oats</td>\n",
       "      <td>2010</td>\n",
       "      <td>37</td>\n",
       "    </tr>\n",
       "    <tr>\n",
       "      <th>18186</th>\n",
       "      <td>South Africa</td>\n",
       "      <td>Oats</td>\n",
       "      <td>2010</td>\n",
       "      <td>34</td>\n",
       "    </tr>\n",
       "    <tr>\n",
       "      <th>9676</th>\n",
       "      <td>Kenya</td>\n",
       "      <td>Oats</td>\n",
       "      <td>2010</td>\n",
       "      <td>3</td>\n",
       "    </tr>\n",
       "    <tr>\n",
       "      <th>20356</th>\n",
       "      <td>Tunisia</td>\n",
       "      <td>Oats</td>\n",
       "      <td>2010</td>\n",
       "      <td>2</td>\n",
       "    </tr>\n",
       "    <tr>\n",
       "      <th>22816</th>\n",
       "      <td>Zimbabwe</td>\n",
       "      <td>Oats</td>\n",
       "      <td>2010</td>\n",
       "      <td>1</td>\n",
       "    </tr>\n",
       "    <tr>\n",
       "      <th>8036</th>\n",
       "      <td>Ghana</td>\n",
       "      <td>Oats</td>\n",
       "      <td>2010</td>\n",
       "      <td>0</td>\n",
       "    </tr>\n",
       "    <tr>\n",
       "      <th>10126</th>\n",
       "      <td>Lesotho</td>\n",
       "      <td>Oats</td>\n",
       "      <td>2010</td>\n",
       "      <td>0</td>\n",
       "    </tr>\n",
       "  </tbody>\n",
       "</table>\n",
       "</div>"
      ],
      "text/plain": [
       "            Country  Item  Year  Value\n",
       "326         Algeria  Oats  2010     88\n",
       "6646       Ethiopia  Oats  2010     48\n",
       "13526       Morocco  Oats  2010     37\n",
       "18186  South Africa  Oats  2010     34\n",
       "9676          Kenya  Oats  2010      3\n",
       "20356       Tunisia  Oats  2010      2\n",
       "22816      Zimbabwe  Oats  2010      1\n",
       "8036          Ghana  Oats  2010      0\n",
       "10126       Lesotho  Oats  2010      0"
      ]
     },
     "execution_count": 6,
     "metadata": {},
     "output_type": "execute_result"
    }
   ],
   "source": [
    "item = food_production.groupby(['Country','Item','Year'], as_index=False)['Value'].sum()\n",
    "year = item[item['Year'] == 2010]\n",
    "oat = year[year['Item'] == 'Oats'].sort_values(by = 'Value', ascending = False)\n",
    "oat"
   ]
  },
  {
   "cell_type": "markdown",
   "metadata": {},
   "source": [
    "### Ans: Algeria - 88kt of oats"
   ]
  },
  {
   "cell_type": "markdown",
   "metadata": {},
   "source": [
    "### Question 2\n",
    "Which three countries respectively had the lowest food supply between 2004 and\n",
    "2006 (inclusive)?"
   ]
  },
  {
   "cell_type": "code",
   "execution_count": 7,
   "metadata": {},
   "outputs": [
    {
     "data": {
      "text/plain": [
       "Country\n",
       "Zambia                      5577\n",
       "Ethiopia                    5827\n",
       "Central African Republic    6044\n",
       "Name: Value, dtype: int64"
      ]
     },
     "execution_count": 7,
     "metadata": {},
     "output_type": "execute_result"
    }
   ],
   "source": [
    "supply = food_supply.groupby(['Country','Year'], as_index=False)['Value'].sum()\n",
    "supply_years = supply[supply['Year']<= 2006]\n",
    "country = supply_years.groupby('Country')['Value'].sum().sort_values()\n",
    "country.head(3)"
   ]
  },
  {
   "cell_type": "markdown",
   "metadata": {},
   "source": [
    "### Ans: Zambia - 5577, Ethiopia - 5827, and Central African Republic - 6044"
   ]
  },
  {
   "cell_type": "markdown",
   "metadata": {},
   "source": [
    "### Question 5\n",
    "What three countries have produced the highest total quantity of rice from 2004 to\n",
    "2013?"
   ]
  },
  {
   "cell_type": "code",
   "execution_count": 8,
   "metadata": {},
   "outputs": [
    {
     "data": {
      "text/html": [
       "<div>\n",
       "<style scoped>\n",
       "    .dataframe tbody tr th:only-of-type {\n",
       "        vertical-align: middle;\n",
       "    }\n",
       "\n",
       "    .dataframe tbody tr th {\n",
       "        vertical-align: top;\n",
       "    }\n",
       "\n",
       "    .dataframe thead th {\n",
       "        text-align: right;\n",
       "    }\n",
       "</style>\n",
       "<table border=\"1\" class=\"dataframe\">\n",
       "  <thead>\n",
       "    <tr style=\"text-align: right;\">\n",
       "      <th></th>\n",
       "      <th>Country</th>\n",
       "      <th>Item</th>\n",
       "      <th>Value</th>\n",
       "    </tr>\n",
       "  </thead>\n",
       "  <tbody>\n",
       "    <tr>\n",
       "      <th>617</th>\n",
       "      <td>Egypt</td>\n",
       "      <td>Rice (Milled Equivalent)</td>\n",
       "      <td>40370</td>\n",
       "    </tr>\n",
       "    <tr>\n",
       "      <th>1583</th>\n",
       "      <td>Nigeria</td>\n",
       "      <td>Rice (Milled Equivalent)</td>\n",
       "      <td>26964</td>\n",
       "    </tr>\n",
       "    <tr>\n",
       "      <th>1119</th>\n",
       "      <td>Madagascar</td>\n",
       "      <td>Rice (Milled Equivalent)</td>\n",
       "      <td>26118</td>\n",
       "    </tr>\n",
       "  </tbody>\n",
       "</table>\n",
       "</div>"
      ],
      "text/plain": [
       "         Country                      Item  Value\n",
       "617        Egypt  Rice (Milled Equivalent)  40370\n",
       "1583     Nigeria  Rice (Milled Equivalent)  26964\n",
       "1119  Madagascar  Rice (Milled Equivalent)  26118"
      ]
     },
     "execution_count": 8,
     "metadata": {},
     "output_type": "execute_result"
    }
   ],
   "source": [
    "items= food_production.groupby(['Country','Item'], as_index = False)['Value'].sum()\n",
    "rice = items[items['Item'] == 'Rice (Milled Equivalent)'].sort_values(by = 'Value', ascending = False)\n",
    "rice.head(3)"
   ]
  },
  {
   "cell_type": "markdown",
   "metadata": {},
   "source": [
    "### Ans: Egypt - 40370, Nigeria - 26964, and Madagascar - 26118"
   ]
  },
  {
   "cell_type": "code",
   "execution_count": null,
   "metadata": {},
   "outputs": [],
   "source": []
  }
 ],
 "metadata": {
  "kernelspec": {
   "display_name": "Python 3",
   "language": "python",
   "name": "python3"
  },
  "language_info": {
   "codemirror_mode": {
    "name": "ipython",
    "version": 3
   },
   "file_extension": ".py",
   "mimetype": "text/x-python",
   "name": "python",
   "nbconvert_exporter": "python",
   "pygments_lexer": "ipython3",
   "version": "3.8.5"
  }
 },
 "nbformat": 4,
 "nbformat_minor": 4
}
